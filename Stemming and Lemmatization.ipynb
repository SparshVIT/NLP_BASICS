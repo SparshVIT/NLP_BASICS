{
 "cells": [
  {
   "cell_type": "markdown",
   "id": "b612c325",
   "metadata": {},
   "source": [
    "# Stemming"
   ]
  },
  {
   "cell_type": "markdown",
   "id": "421ee383",
   "metadata": {},
   "source": [
    "**Stemming is a process where we are converting the words to their root words, refer handwritten notebook for information\n",
    "For stemming we have to import the libaries like nltk and from package like nltk.stem import PorterStemmer, porterstemmer is a class which is responsible for the stemming of words\n",
    "and also we will import stopwords class from nltk.corpus package\n",
    "What are the stopwords\n",
    "Stopwords are the words which do not contribute much in text classification or text processing, like 'of', 'for', 'which' etc.for more list of stopwords we can execute stopwords.words('english').**"
   ]
  },
  {
   "cell_type": "code",
   "execution_count": 23,
   "id": "0946e100",
   "metadata": {},
   "outputs": [],
   "source": [
    "import nltk"
   ]
  },
  {
   "cell_type": "code",
   "execution_count": 24,
   "id": "5e01d7e1",
   "metadata": {},
   "outputs": [],
   "source": [
    "from nltk.stem import PorterStemmer"
   ]
  },
  {
   "cell_type": "code",
   "execution_count": 25,
   "id": "e98da597",
   "metadata": {},
   "outputs": [],
   "source": [
    "from nltk.corpus import stopwords"
   ]
  },
  {
   "cell_type": "code",
   "execution_count": 26,
   "id": "837f6eb9",
   "metadata": {},
   "outputs": [],
   "source": [
    "paragraph = \"\"\"Hello everyone, I'm Bing and I'm here to make you laugh. I hope you're having a good day, because I'm not. You see, I'm a software engineer in Chennai, and that's not a joke. That's a tragedy.\n",
    "You might think being a software engineer is cool and glamorous, but let me tell you the truth. It's hard, stressful and boring. And that's just the traffic. Have you ever tried to commute in Chennai? It's like playing a video game on the hardest level, except you can't pause, restart or cheat. You have to dodge bikes, autos, cows, dogs, potholes and pedestrians. And sometimes all of them at once. And you have to do this every day, twice a day, for hours.\n",
    "And then you reach your office, which is supposed to be your sanctuary. But it's not. It's a prison. A prison with cubicles, computers and coffee machines. A prison where you have to work on projects that make no sense, with deadlines that are impossible, and clients that are unreasonable. A prison where you have to deal with managers who don't know what they're doing, colleagues who don't know what they're saying, and HR who don't know what they're paying.\n",
    "And then you go home, which is supposed to be your paradise. But it's not. It's a hell. A hell with power cuts, water shortages and mosquitoes. A hell where you have to deal with landlords who don't care, neighbors who don't share and relatives who don't spare. A hell where you have to face your family who don't understand your job, your friends who don't appreciate your jokes and your partner who doesn't love your code.\n",
    "And then you go to sleep, which is supposed to be your escape. But it's not. It's a nightmare. A nightmare where you dream of bugs, errors and crashes. A nightmare where you wake up in cold sweat, wondering if you missed a semicolon or a bracket. A nightmare where you check your phone and see an email from your boss saying \"urgent meeting at 9 am\".\n",
    "And then you repeat this cycle every day, until you die or retire. Whichever comes first.\n",
    "That's the software engineer life in Chennai for you. Thank you for listening and laughing at my misery. Have a nice day.\"\"\""
   ]
  },
  {
   "cell_type": "markdown",
   "id": "0db37105",
   "metadata": {},
   "source": [
    "**lets tokenize into sentences**"
   ]
  },
  {
   "cell_type": "code",
   "execution_count": 27,
   "id": "13b869d4",
   "metadata": {},
   "outputs": [],
   "source": [
    "sentences = nltk.sent_tokenize(paragraph)"
   ]
  },
  {
   "cell_type": "code",
   "execution_count": 28,
   "id": "9cb3ca46",
   "metadata": {},
   "outputs": [
    {
     "data": {
      "text/plain": [
       "[\"Hello everyone, I'm Bing and I'm here to make you laugh.\",\n",
       " \"I hope you're having a good day, because I'm not.\",\n",
       " \"You see, I'm a software engineer in Chennai, and that's not a joke.\",\n",
       " \"That's a tragedy.\",\n",
       " 'You might think being a software engineer is cool and glamorous, but let me tell you the truth.',\n",
       " \"It's hard, stressful and boring.\",\n",
       " \"And that's just the traffic.\",\n",
       " 'Have you ever tried to commute in Chennai?',\n",
       " \"It's like playing a video game on the hardest level, except you can't pause, restart or cheat.\",\n",
       " 'You have to dodge bikes, autos, cows, dogs, potholes and pedestrians.',\n",
       " 'And sometimes all of them at once.',\n",
       " 'And you have to do this every day, twice a day, for hours.',\n",
       " 'And then you reach your office, which is supposed to be your sanctuary.',\n",
       " \"But it's not.\",\n",
       " \"It's a prison.\",\n",
       " 'A prison with cubicles, computers and coffee machines.',\n",
       " 'A prison where you have to work on projects that make no sense, with deadlines that are impossible, and clients that are unreasonable.',\n",
       " \"A prison where you have to deal with managers who don't know what they're doing, colleagues who don't know what they're saying, and HR who don't know what they're paying.\",\n",
       " 'And then you go home, which is supposed to be your paradise.',\n",
       " \"But it's not.\",\n",
       " \"It's a hell.\",\n",
       " 'A hell with power cuts, water shortages and mosquitoes.',\n",
       " \"A hell where you have to deal with landlords who don't care, neighbors who don't share and relatives who don't spare.\",\n",
       " \"A hell where you have to face your family who don't understand your job, your friends who don't appreciate your jokes and your partner who doesn't love your code.\",\n",
       " 'And then you go to sleep, which is supposed to be your escape.',\n",
       " \"But it's not.\",\n",
       " \"It's a nightmare.\",\n",
       " 'A nightmare where you dream of bugs, errors and crashes.',\n",
       " 'A nightmare where you wake up in cold sweat, wondering if you missed a semicolon or a bracket.',\n",
       " 'A nightmare where you check your phone and see an email from your boss saying \"urgent meeting at 9 am\".',\n",
       " 'And then you repeat this cycle every day, until you die or retire.',\n",
       " 'Whichever comes first.',\n",
       " \"That's the software engineer life in Chennai for you.\",\n",
       " 'Thank you for listening and laughing at my misery.',\n",
       " 'Have a nice day.']"
      ]
     },
     "execution_count": 28,
     "metadata": {},
     "output_type": "execute_result"
    }
   ],
   "source": [
    "sentences"
   ]
  },
  {
   "cell_type": "markdown",
   "id": "a22d01fa",
   "metadata": {},
   "source": [
    "**now let's see that what are the stopwords in english and lets remove it**"
   ]
  },
  {
   "cell_type": "code",
   "execution_count": 29,
   "id": "e2f98ef5",
   "metadata": {},
   "outputs": [
    {
     "data": {
      "text/plain": [
       "['i',\n",
       " 'me',\n",
       " 'my',\n",
       " 'myself',\n",
       " 'we',\n",
       " 'our',\n",
       " 'ours',\n",
       " 'ourselves',\n",
       " 'you',\n",
       " \"you're\",\n",
       " \"you've\",\n",
       " \"you'll\",\n",
       " \"you'd\",\n",
       " 'your',\n",
       " 'yours',\n",
       " 'yourself',\n",
       " 'yourselves',\n",
       " 'he',\n",
       " 'him',\n",
       " 'his',\n",
       " 'himself',\n",
       " 'she',\n",
       " \"she's\",\n",
       " 'her',\n",
       " 'hers',\n",
       " 'herself',\n",
       " 'it',\n",
       " \"it's\",\n",
       " 'its',\n",
       " 'itself',\n",
       " 'they',\n",
       " 'them',\n",
       " 'their',\n",
       " 'theirs',\n",
       " 'themselves',\n",
       " 'what',\n",
       " 'which',\n",
       " 'who',\n",
       " 'whom',\n",
       " 'this',\n",
       " 'that',\n",
       " \"that'll\",\n",
       " 'these',\n",
       " 'those',\n",
       " 'am',\n",
       " 'is',\n",
       " 'are',\n",
       " 'was',\n",
       " 'were',\n",
       " 'be',\n",
       " 'been',\n",
       " 'being',\n",
       " 'have',\n",
       " 'has',\n",
       " 'had',\n",
       " 'having',\n",
       " 'do',\n",
       " 'does',\n",
       " 'did',\n",
       " 'doing',\n",
       " 'a',\n",
       " 'an',\n",
       " 'the',\n",
       " 'and',\n",
       " 'but',\n",
       " 'if',\n",
       " 'or',\n",
       " 'because',\n",
       " 'as',\n",
       " 'until',\n",
       " 'while',\n",
       " 'of',\n",
       " 'at',\n",
       " 'by',\n",
       " 'for',\n",
       " 'with',\n",
       " 'about',\n",
       " 'against',\n",
       " 'between',\n",
       " 'into',\n",
       " 'through',\n",
       " 'during',\n",
       " 'before',\n",
       " 'after',\n",
       " 'above',\n",
       " 'below',\n",
       " 'to',\n",
       " 'from',\n",
       " 'up',\n",
       " 'down',\n",
       " 'in',\n",
       " 'out',\n",
       " 'on',\n",
       " 'off',\n",
       " 'over',\n",
       " 'under',\n",
       " 'again',\n",
       " 'further',\n",
       " 'then',\n",
       " 'once',\n",
       " 'here',\n",
       " 'there',\n",
       " 'when',\n",
       " 'where',\n",
       " 'why',\n",
       " 'how',\n",
       " 'all',\n",
       " 'any',\n",
       " 'both',\n",
       " 'each',\n",
       " 'few',\n",
       " 'more',\n",
       " 'most',\n",
       " 'other',\n",
       " 'some',\n",
       " 'such',\n",
       " 'no',\n",
       " 'nor',\n",
       " 'not',\n",
       " 'only',\n",
       " 'own',\n",
       " 'same',\n",
       " 'so',\n",
       " 'than',\n",
       " 'too',\n",
       " 'very',\n",
       " 's',\n",
       " 't',\n",
       " 'can',\n",
       " 'will',\n",
       " 'just',\n",
       " 'don',\n",
       " \"don't\",\n",
       " 'should',\n",
       " \"should've\",\n",
       " 'now',\n",
       " 'd',\n",
       " 'll',\n",
       " 'm',\n",
       " 'o',\n",
       " 're',\n",
       " 've',\n",
       " 'y',\n",
       " 'ain',\n",
       " 'aren',\n",
       " \"aren't\",\n",
       " 'couldn',\n",
       " \"couldn't\",\n",
       " 'didn',\n",
       " \"didn't\",\n",
       " 'doesn',\n",
       " \"doesn't\",\n",
       " 'hadn',\n",
       " \"hadn't\",\n",
       " 'hasn',\n",
       " \"hasn't\",\n",
       " 'haven',\n",
       " \"haven't\",\n",
       " 'isn',\n",
       " \"isn't\",\n",
       " 'ma',\n",
       " 'mightn',\n",
       " \"mightn't\",\n",
       " 'mustn',\n",
       " \"mustn't\",\n",
       " 'needn',\n",
       " \"needn't\",\n",
       " 'shan',\n",
       " \"shan't\",\n",
       " 'shouldn',\n",
       " \"shouldn't\",\n",
       " 'wasn',\n",
       " \"wasn't\",\n",
       " 'weren',\n",
       " \"weren't\",\n",
       " 'won',\n",
       " \"won't\",\n",
       " 'wouldn',\n",
       " \"wouldn't\"]"
      ]
     },
     "execution_count": 29,
     "metadata": {},
     "output_type": "execute_result"
    }
   ],
   "source": [
    "stopwords.words('english')"
   ]
  },
  {
   "cell_type": "markdown",
   "id": "b7f60487",
   "metadata": {},
   "source": [
    "**Remove the stopwords from each sentence for better processing the data amd stem the non stop words**"
   ]
  },
  {
   "cell_type": "code",
   "execution_count": 30,
   "id": "2e71a1da",
   "metadata": {},
   "outputs": [],
   "source": [
    "#stemmer  = PorterStemmer()"
   ]
  },
  {
   "cell_type": "code",
   "execution_count": 31,
   "id": "630e2f91",
   "metadata": {},
   "outputs": [],
   "source": [
    "##for i in range(0,len(sentences)):\n",
    " ##   words = nltk.word_tokenize(sentences[i])\n",
    "   ## words = [stemmer.stem(word) for word in words if word not in set(stopwords.words('english'))]\n",
    "    ##sentences[i] = ''.join(words)"
   ]
  },
  {
   "cell_type": "code",
   "execution_count": 32,
   "id": "eb645395",
   "metadata": {},
   "outputs": [
    {
     "data": {
      "text/plain": [
       "[\"Hello everyone, I'm Bing and I'm here to make you laugh.\",\n",
       " \"I hope you're having a good day, because I'm not.\",\n",
       " \"You see, I'm a software engineer in Chennai, and that's not a joke.\",\n",
       " \"That's a tragedy.\",\n",
       " 'You might think being a software engineer is cool and glamorous, but let me tell you the truth.',\n",
       " \"It's hard, stressful and boring.\",\n",
       " \"And that's just the traffic.\",\n",
       " 'Have you ever tried to commute in Chennai?',\n",
       " \"It's like playing a video game on the hardest level, except you can't pause, restart or cheat.\",\n",
       " 'You have to dodge bikes, autos, cows, dogs, potholes and pedestrians.',\n",
       " 'And sometimes all of them at once.',\n",
       " 'And you have to do this every day, twice a day, for hours.',\n",
       " 'And then you reach your office, which is supposed to be your sanctuary.',\n",
       " \"But it's not.\",\n",
       " \"It's a prison.\",\n",
       " 'A prison with cubicles, computers and coffee machines.',\n",
       " 'A prison where you have to work on projects that make no sense, with deadlines that are impossible, and clients that are unreasonable.',\n",
       " \"A prison where you have to deal with managers who don't know what they're doing, colleagues who don't know what they're saying, and HR who don't know what they're paying.\",\n",
       " 'And then you go home, which is supposed to be your paradise.',\n",
       " \"But it's not.\",\n",
       " \"It's a hell.\",\n",
       " 'A hell with power cuts, water shortages and mosquitoes.',\n",
       " \"A hell where you have to deal with landlords who don't care, neighbors who don't share and relatives who don't spare.\",\n",
       " \"A hell where you have to face your family who don't understand your job, your friends who don't appreciate your jokes and your partner who doesn't love your code.\",\n",
       " 'And then you go to sleep, which is supposed to be your escape.',\n",
       " \"But it's not.\",\n",
       " \"It's a nightmare.\",\n",
       " 'A nightmare where you dream of bugs, errors and crashes.',\n",
       " 'A nightmare where you wake up in cold sweat, wondering if you missed a semicolon or a bracket.',\n",
       " 'A nightmare where you check your phone and see an email from your boss saying \"urgent meeting at 9 am\".',\n",
       " 'And then you repeat this cycle every day, until you die or retire.',\n",
       " 'Whichever comes first.',\n",
       " \"That's the software engineer life in Chennai for you.\",\n",
       " 'Thank you for listening and laughing at my misery.',\n",
       " 'Have a nice day.']"
      ]
     },
     "execution_count": 32,
     "metadata": {},
     "output_type": "execute_result"
    }
   ],
   "source": [
    "sentences"
   ]
  },
  {
   "cell_type": "markdown",
   "id": "15b5dee2",
   "metadata": {},
   "source": [
    "# Lemmatization"
   ]
  },
  {
   "cell_type": "markdown",
   "id": "04c1ba7e",
   "metadata": {},
   "source": [
    "**Lemmatization is the process like stemming, but it reduces the words to root stem but meaningful words, whereas the stemming can produce the words which may or may not have the meaning**"
   ]
  },
  {
   "cell_type": "code",
   "execution_count": 33,
   "id": "ba159b59",
   "metadata": {},
   "outputs": [],
   "source": [
    "from nltk.stem import WordNetLemmatizer"
   ]
  },
  {
   "cell_type": "markdown",
   "id": "52fe346e",
   "metadata": {},
   "source": [
    "**Perform the same process as stemming, make a lemmatizer object and replace the stemmer code with lemmatizer it in rest of code**"
   ]
  },
  {
   "cell_type": "code",
   "execution_count": 34,
   "id": "8c0eb7f5",
   "metadata": {},
   "outputs": [],
   "source": [
    "lemmatizer = WordNetLemmatizer()"
   ]
  },
  {
   "cell_type": "code",
   "execution_count": 35,
   "id": "c7158173",
   "metadata": {},
   "outputs": [],
   "source": [
    "for i in range(0,len(sentences)):\n",
    "    words = nltk.word_tokenize(sentences[i])\n",
    "    words = [lemmatizer.lemmatize(word) for word in words if word not in set(stopwords.words('english'))]\n",
    "    sentences[i] = ' '.join(words)"
   ]
  },
  {
   "cell_type": "code",
   "execution_count": 36,
   "id": "9f3076fd",
   "metadata": {},
   "outputs": [
    {
     "data": {
      "text/plain": [
       "[\"Hello everyone , I 'm Bing I 'm make laugh .\",\n",
       " \"I hope 're good day , I 'm .\",\n",
       " \"You see , I 'm software engineer Chennai , 's joke .\",\n",
       " \"That 's tragedy .\",\n",
       " 'You might think software engineer cool glamorous , let tell truth .',\n",
       " \"It 's hard , stressful boring .\",\n",
       " \"And 's traffic .\",\n",
       " 'Have ever tried commute Chennai ?',\n",
       " \"It 's like playing video game hardest level , except ca n't pause , restart cheat .\",\n",
       " 'You dodge bike , auto , cow , dog , pothole pedestrian .',\n",
       " 'And sometimes .',\n",
       " 'And every day , twice day , hour .',\n",
       " 'And reach office , supposed sanctuary .',\n",
       " \"But 's .\",\n",
       " \"It 's prison .\",\n",
       " 'A prison cubicle , computer coffee machine .',\n",
       " 'A prison work project make sense , deadline impossible , client unreasonable .',\n",
       " \"A prison deal manager n't know 're , colleague n't know 're saying , HR n't know 're paying .\",\n",
       " 'And go home , supposed paradise .',\n",
       " \"But 's .\",\n",
       " \"It 's hell .\",\n",
       " 'A hell power cut , water shortage mosquito .',\n",
       " \"A hell deal landlord n't care , neighbor n't share relative n't spare .\",\n",
       " \"A hell face family n't understand job , friend n't appreciate joke partner n't love code .\",\n",
       " 'And go sleep , supposed escape .',\n",
       " \"But 's .\",\n",
       " \"It 's nightmare .\",\n",
       " 'A nightmare dream bug , error crash .',\n",
       " 'A nightmare wake cold sweat , wondering missed semicolon bracket .',\n",
       " \"A nightmare check phone see email bos saying `` urgent meeting 9 '' .\",\n",
       " 'And repeat cycle every day , die retire .',\n",
       " 'Whichever come first .',\n",
       " \"That 's software engineer life Chennai .\",\n",
       " 'Thank listening laughing misery .',\n",
       " 'Have nice day .']"
      ]
     },
     "execution_count": 36,
     "metadata": {},
     "output_type": "execute_result"
    }
   ],
   "source": [
    "sentences"
   ]
  },
  {
   "cell_type": "code",
   "execution_count": null,
   "id": "00080b27",
   "metadata": {},
   "outputs": [],
   "source": []
  }
 ],
 "metadata": {
  "kernelspec": {
   "display_name": "Python 3 (ipykernel)",
   "language": "python",
   "name": "python3"
  },
  "language_info": {
   "codemirror_mode": {
    "name": "ipython",
    "version": 3
   },
   "file_extension": ".py",
   "mimetype": "text/x-python",
   "name": "python",
   "nbconvert_exporter": "python",
   "pygments_lexer": "ipython3",
   "version": "3.9.0"
  }
 },
 "nbformat": 4,
 "nbformat_minor": 5
}
