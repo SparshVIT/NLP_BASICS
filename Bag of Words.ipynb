{
 "cells": [
  {
   "cell_type": "markdown",
   "id": "abf6a739",
   "metadata": {},
   "source": [
    "**Import the Libraries**"
   ]
  },
  {
   "cell_type": "code",
   "execution_count": 1,
   "id": "4d235ba6",
   "metadata": {},
   "outputs": [],
   "source": [
    "import re # regex\n",
    "import nltk\n",
    "from nltk.stem import PorterStemmer\n",
    "from nltk.stem import WordNetLemmatizer\n",
    "from nltk.corpus import stopwordswords"
   ]
  },
  {
   "cell_type": "code",
   "execution_count": 7,
   "id": "7d21bb16",
   "metadata": {},
   "outputs": [],
   "source": [
    "paragraph = \"\"\"A young software engineer named Anjali had always dreamed of living in Mumbai. She had heard stories about the city's vibrant culture, its delicious food, and its endless opportunities. After graduating from college, she finally got her chance to move to Mumbai and start her new life.\n",
    "Anjali's first few months in Mumbai were a whirlwind. She was constantly exploring the city, trying new foods, and meeting new people. She loved the hustle and bustle of the city, and she felt like she was finally living her dream.\n",
    "However, after a while, Anjali started to feel overwhelmed. The city was so big and crowded, and it was hard to keep up with everything. She also started to miss her family and friends back home.\n",
    "One day, Anjali was walking home from work when she saw a group of people gathered around a street performer. The performer was playing the tabla, and he was mesmerizing the crowd with his music. Anjali stopped to listen, and she was immediately captivated.\n",
    "As she listened to the music, Anjali felt all of her stress and anxiety melt away. She felt at peace, and she knew that she was home.\n",
    "Anjali realized that she didn't need to do everything in Mumbai. She could just relax and enjoy the city's many charms. She could spend her days exploring the city's temples and mosques, or she could just sit on the beach and watch the sunset.\n",
    "Anjali finally found her place in Mumbai. She learned to love the city's chaos and its energy. She made new friends, and she started to feel like she belonged.\n",
    "Mumbai is a city that can be overwhelming at first, but it is also a city that can offer you anything you are looking for. If you are willing to embrace its chaos and its energy, you will find that Mumbai is a city that will give you everything you need.\"\"\""
   ]
  },
  {
   "cell_type": "code",
   "execution_count": 8,
   "id": "373abe83",
   "metadata": {},
   "outputs": [],
   "source": [
    "sentences = nltk.sent_tokenize(paragraph)"
   ]
  },
  {
   "cell_type": "code",
   "execution_count": 9,
   "id": "9dd5e145",
   "metadata": {},
   "outputs": [],
   "source": [
    "p = PorterStemmer()\n",
    "w = WordNetLemmatizer()\n",
    "corpus = []"
   ]
  },
  {
   "cell_type": "code",
   "execution_count": 13,
   "id": "65128079",
   "metadata": {},
   "outputs": [],
   "source": [
    "for i in range(0,len(sentences)):\n",
    "    r = re.sub('[^a-zA-Z]', ' ', sentences[i])\n",
    "    r = r.lower()\n",
    "    r = r.split()\n",
    "    r = [w.lemmatize(word) for word in r if word not in set(stopwords.words('english'))]\n",
    "    r = ' '.join(r)\n",
    "    corpus.append(r)"
   ]
  },
  {
   "cell_type": "code",
   "execution_count": 14,
   "id": "c9c3fe64",
   "metadata": {},
   "outputs": [
    {
     "data": {
      "text/plain": [
       "['young software engineer named anjali always dreamed living mumbai',\n",
       " 'heard story city vibrant culture delicious food endless opportunity',\n",
       " 'graduating college finally got chance move mumbai start new life',\n",
       " 'anjali first month mumbai whirlwind',\n",
       " 'constantly exploring city trying new food meeting new people',\n",
       " 'loved hustle bustle city felt like finally living dream',\n",
       " 'however anjali started feel overwhelmed',\n",
       " 'city big crowded hard keep everything',\n",
       " 'also started miss family friend back home',\n",
       " 'one day anjali walking home work saw group people gathered around street performer',\n",
       " 'performer playing tabla mesmerizing crowd music',\n",
       " 'anjali stopped listen immediately captivated',\n",
       " 'listened music anjali felt stress anxiety melt away',\n",
       " 'felt peace knew home',\n",
       " 'anjali realized need everything mumbai',\n",
       " 'could relax enjoy city many charm',\n",
       " 'could spend day exploring city temple mosque could sit beach watch sunset',\n",
       " 'anjali finally found place mumbai',\n",
       " 'learned love city chaos energy',\n",
       " 'made new friend started feel like belonged',\n",
       " 'mumbai city overwhelming first also city offer anything looking',\n",
       " 'willing embrace chaos energy find mumbai city give everything need',\n",
       " 'young software engineer named anjali always dreamed living mumbai',\n",
       " 'heard story city vibrant culture delicious food endless opportunity',\n",
       " 'graduating college finally got chance move mumbai start new life',\n",
       " 'anjali first month mumbai whirlwind',\n",
       " 'constantly exploring city trying new food meeting new people',\n",
       " 'loved hustle bustle city felt like finally living dream',\n",
       " 'however anjali started feel overwhelmed',\n",
       " 'city big crowded hard keep everything',\n",
       " 'also started miss family friend back home',\n",
       " 'one day anjali walking home work saw group people gathered around street performer',\n",
       " 'performer playing tabla mesmerizing crowd music',\n",
       " 'anjali stopped listen immediately captivated',\n",
       " 'listened music anjali felt stress anxiety melt away',\n",
       " 'felt peace knew home',\n",
       " 'anjali realized need everything mumbai',\n",
       " 'could relax enjoy city many charm',\n",
       " 'could spend day exploring city temple mosque could sit beach watch sunset',\n",
       " 'anjali finally found place mumbai',\n",
       " 'learned love city chaos energy',\n",
       " 'made new friend started feel like belonged',\n",
       " 'mumbai city overwhelming first also city offer anything looking',\n",
       " 'willing embrace chaos energy find mumbai city give everything need',\n",
       " 'young software engineer named anjali always dreamed living mumbai',\n",
       " 'heard story city vibrant culture delicious food endless opportunity',\n",
       " 'graduating college finally got chance move mumbai start new life',\n",
       " 'anjali first month mumbai whirlwind',\n",
       " 'constantly exploring city trying new food meeting new people',\n",
       " 'loved hustle bustle city felt like finally living dream',\n",
       " 'however anjali started feel overwhelmed',\n",
       " 'city big crowded hard keep everything',\n",
       " 'also started miss family friend back home',\n",
       " 'one day anjali walking home work saw group people gathered around street performer',\n",
       " 'performer playing tabla mesmerizing crowd music',\n",
       " 'anjali stopped listen immediately captivated',\n",
       " 'listened music anjali felt stress anxiety melt away',\n",
       " 'felt peace knew home',\n",
       " 'anjali realized need everything mumbai',\n",
       " 'could relax enjoy city many charm',\n",
       " 'could spend day exploring city temple mosque could sit beach watch sunset',\n",
       " 'anjali finally found place mumbai',\n",
       " 'learned love city chaos energy',\n",
       " 'made new friend started feel like belonged',\n",
       " 'mumbai city overwhelming first also city offer anything looking',\n",
       " 'willing embrace chaos energy find mumbai city give everything need']"
      ]
     },
     "execution_count": 14,
     "metadata": {},
     "output_type": "execute_result"
    }
   ],
   "source": [
    "corpus"
   ]
  },
  {
   "cell_type": "markdown",
   "id": "f857420f",
   "metadata": {},
   "source": [
    "**Applying Bag of words**"
   ]
  },
  {
   "cell_type": "code",
   "execution_count": 15,
   "id": "d400b11d",
   "metadata": {},
   "outputs": [],
   "source": [
    "from sklearn.feature_extraction.text import CountVectorizer\n",
    "c = CountVectorizer()\n",
    "d = c.fit_transform(corpus).toarray()"
   ]
  },
  {
   "cell_type": "code",
   "execution_count": 16,
   "id": "b27f15d2",
   "metadata": {},
   "outputs": [
    {
     "data": {
      "text/plain": [
       "array([[0, 1, 1, ..., 0, 0, 1],\n",
       "       [0, 0, 0, ..., 0, 0, 0],\n",
       "       [0, 0, 0, ..., 0, 0, 0],\n",
       "       ...,\n",
       "       [0, 0, 0, ..., 0, 0, 0],\n",
       "       [1, 0, 0, ..., 0, 0, 0],\n",
       "       [0, 0, 0, ..., 1, 0, 0]], dtype=int64)"
      ]
     },
     "execution_count": 16,
     "metadata": {},
     "output_type": "execute_result"
    }
   ],
   "source": [
    "d"
   ]
  },
  {
   "cell_type": "code",
   "execution_count": 18,
   "id": "80c8f7e8",
   "metadata": {},
   "outputs": [
    {
     "data": {
      "text/plain": [
       "(66, 112)"
      ]
     },
     "execution_count": 18,
     "metadata": {},
     "output_type": "execute_result"
    }
   ],
   "source": [
    "d.shape"
   ]
  },
  {
   "cell_type": "code",
   "execution_count": 19,
   "id": "41f14e8d",
   "metadata": {},
   "outputs": [
    {
     "data": {
      "text/plain": [
       "66"
      ]
     },
     "execution_count": 19,
     "metadata": {},
     "output_type": "execute_result"
    }
   ],
   "source": [
    "len(corpus)"
   ]
  },
  {
   "cell_type": "code",
   "execution_count": null,
   "id": "9e2ccae4",
   "metadata": {},
   "outputs": [],
   "source": [
    "word_vectorizer = {}\n"
   ]
  }
 ],
 "metadata": {
  "kernelspec": {
   "display_name": "Python 3 (ipykernel)",
   "language": "python",
   "name": "python3"
  },
  "language_info": {
   "codemirror_mode": {
    "name": "ipython",
    "version": 3
   },
   "file_extension": ".py",
   "mimetype": "text/x-python",
   "name": "python",
   "nbconvert_exporter": "python",
   "pygments_lexer": "ipython3",
   "version": "3.9.0"
  }
 },
 "nbformat": 4,
 "nbformat_minor": 5
}
